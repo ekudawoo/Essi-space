{
 "cells": [
  {
   "cell_type": "markdown",
   "metadata": {},
   "source": [
    "# Module 6 Exercises - Correlation and Models"
   ]
  },
  {
   "cell_type": "markdown",
   "metadata": {},
   "source": [
    "### Exercise 1:\n",
    "\n",
    "From the datasets folder, load the \"tamiami.csv\" file as a dataframe. Rename the columns (in order) to the following:\n",
    "\n",
    "- location\n",
    "- sales\n",
    "- employees\n",
    "- restaurants\n",
    "- foodcarts\n",
    "- price\n",
    "\n",
    "Then do a correlation table on that dataframe. What features (columns) are correlated? What features aren't correlated?"
   ]
  },
  {
   "cell_type": "code",
   "execution_count": 2,
   "metadata": {},
   "outputs": [],
   "source": [
    "import pandas as pd\n",
    "import numpy as np"
   ]
  },
  {
   "cell_type": "code",
   "execution_count": 3,
   "metadata": {},
   "outputs": [
    {
     "data": {
      "text/html": [
       "<div>\n",
       "<style scoped>\n",
       "    .dataframe tbody tr th:only-of-type {\n",
       "        vertical-align: middle;\n",
       "    }\n",
       "\n",
       "    .dataframe tbody tr th {\n",
       "        vertical-align: top;\n",
       "    }\n",
       "\n",
       "    .dataframe thead th {\n",
       "        text-align: right;\n",
       "    }\n",
       "</style>\n",
       "<table border=\"1\" class=\"dataframe\">\n",
       "  <thead>\n",
       "    <tr style=\"text-align: right;\">\n",
       "      <th></th>\n",
       "      <th>Cart Location</th>\n",
       "      <th>Hot Dog Sales</th>\n",
       "      <th>Employees in Nearby Office Buildings</th>\n",
       "      <th>Num of Nearby Restaurants</th>\n",
       "      <th>Num of Other Food Carts Nearby</th>\n",
       "      <th>Price</th>\n",
       "    </tr>\n",
       "  </thead>\n",
       "  <tbody>\n",
       "    <tr>\n",
       "      <th>0</th>\n",
       "      <td>1</td>\n",
       "      <td>100</td>\n",
       "      <td>1600</td>\n",
       "      <td>8</td>\n",
       "      <td>12</td>\n",
       "      <td>4.16</td>\n",
       "    </tr>\n",
       "    <tr>\n",
       "      <th>1</th>\n",
       "      <td>2</td>\n",
       "      <td>80</td>\n",
       "      <td>1200</td>\n",
       "      <td>6</td>\n",
       "      <td>13</td>\n",
       "      <td>4.63</td>\n",
       "    </tr>\n",
       "    <tr>\n",
       "      <th>2</th>\n",
       "      <td>3</td>\n",
       "      <td>450</td>\n",
       "      <td>2800</td>\n",
       "      <td>19</td>\n",
       "      <td>6</td>\n",
       "      <td>0.50</td>\n",
       "    </tr>\n",
       "    <tr>\n",
       "      <th>3</th>\n",
       "      <td>4</td>\n",
       "      <td>580</td>\n",
       "      <td>4300</td>\n",
       "      <td>19</td>\n",
       "      <td>2</td>\n",
       "      <td>0.47</td>\n",
       "    </tr>\n",
       "    <tr>\n",
       "      <th>4</th>\n",
       "      <td>5</td>\n",
       "      <td>100</td>\n",
       "      <td>1400</td>\n",
       "      <td>6</td>\n",
       "      <td>13</td>\n",
       "      <td>4.24</td>\n",
       "    </tr>\n",
       "  </tbody>\n",
       "</table>\n",
       "</div>"
      ],
      "text/plain": [
       "   Cart Location  Hot Dog Sales  Employees in Nearby Office Buildings  \\\n",
       "0              1            100                                  1600   \n",
       "1              2             80                                  1200   \n",
       "2              3            450                                  2800   \n",
       "3              4            580                                  4300   \n",
       "4              5            100                                  1400   \n",
       "\n",
       "   Num of Nearby Restaurants  Num of Other Food Carts Nearby  Price  \n",
       "0                          8                              12   4.16  \n",
       "1                          6                              13   4.63  \n",
       "2                         19                               6   0.50  \n",
       "3                         19                               2   0.47  \n",
       "4                          6                              13   4.24  "
      ]
     },
     "execution_count": 3,
     "metadata": {},
     "output_type": "execute_result"
    }
   ],
   "source": [
    "Location = \"datasets/tamiami.csv\"\n",
    "df = pd.read_csv(Location)\n",
    "\n",
    "df.head()"
   ]
  },
  {
   "cell_type": "code",
   "execution_count": 27,
   "metadata": {},
   "outputs": [
    {
     "data": {
      "text/plain": [
       "Index(['Location', 'Hot Dog Sales', 'Employees in Nearby Office Buildings',\n",
       "       'Restaurants', 'Foodcarts', 'Price'],\n",
       "      dtype='object')"
      ]
     },
     "execution_count": 27,
     "metadata": {},
     "output_type": "execute_result"
    }
   ],
   "source": [
    "df.columns"
   ]
  },
  {
   "cell_type": "code",
   "execution_count": 34,
   "metadata": {},
   "outputs": [],
   "source": [
    "#rename\n",
    "df.rename(columns={'Cart Location':'location',\n",
    "                           'Hot Dog Sales':'sales',\n",
    "                           'Employees in Nearby Office Buildings':'employees',\n",
    "                           'Num of Nearby Restaurants':'restaurants',\n",
    "                           'Num of Other Food Carts Nearby':'foodcarts','Priice':'price'}, inplace=True)"
   ]
  },
  {
   "cell_type": "code",
   "execution_count": 42,
   "metadata": {},
   "outputs": [
    {
     "data": {
      "text/html": [
       "<div>\n",
       "<style scoped>\n",
       "    .dataframe tbody tr th:only-of-type {\n",
       "        vertical-align: middle;\n",
       "    }\n",
       "\n",
       "    .dataframe tbody tr th {\n",
       "        vertical-align: top;\n",
       "    }\n",
       "\n",
       "    .dataframe thead th {\n",
       "        text-align: right;\n",
       "    }\n",
       "</style>\n",
       "<table border=\"1\" class=\"dataframe\">\n",
       "  <thead>\n",
       "    <tr style=\"text-align: right;\">\n",
       "      <th></th>\n",
       "      <th>Location</th>\n",
       "      <th>sales</th>\n",
       "      <th>employees</th>\n",
       "      <th>Restaurants</th>\n",
       "      <th>Foodcarts</th>\n",
       "      <th>Price</th>\n",
       "    </tr>\n",
       "  </thead>\n",
       "  <tbody>\n",
       "    <tr>\n",
       "      <th>0</th>\n",
       "      <td>1</td>\n",
       "      <td>100</td>\n",
       "      <td>1600</td>\n",
       "      <td>8</td>\n",
       "      <td>12</td>\n",
       "      <td>4.16</td>\n",
       "    </tr>\n",
       "    <tr>\n",
       "      <th>1</th>\n",
       "      <td>2</td>\n",
       "      <td>80</td>\n",
       "      <td>1200</td>\n",
       "      <td>6</td>\n",
       "      <td>13</td>\n",
       "      <td>4.63</td>\n",
       "    </tr>\n",
       "    <tr>\n",
       "      <th>2</th>\n",
       "      <td>3</td>\n",
       "      <td>450</td>\n",
       "      <td>2800</td>\n",
       "      <td>19</td>\n",
       "      <td>6</td>\n",
       "      <td>0.50</td>\n",
       "    </tr>\n",
       "    <tr>\n",
       "      <th>3</th>\n",
       "      <td>4</td>\n",
       "      <td>580</td>\n",
       "      <td>4300</td>\n",
       "      <td>19</td>\n",
       "      <td>2</td>\n",
       "      <td>0.47</td>\n",
       "    </tr>\n",
       "    <tr>\n",
       "      <th>4</th>\n",
       "      <td>5</td>\n",
       "      <td>100</td>\n",
       "      <td>1400</td>\n",
       "      <td>6</td>\n",
       "      <td>13</td>\n",
       "      <td>4.24</td>\n",
       "    </tr>\n",
       "  </tbody>\n",
       "</table>\n",
       "</div>"
      ],
      "text/plain": [
       "   Location  sales  employees  Restaurants  Foodcarts  Price\n",
       "0         1    100       1600            8         12   4.16\n",
       "1         2     80       1200            6         13   4.63\n",
       "2         3    450       2800           19          6   0.50\n",
       "3         4    580       4300           19          2   0.47\n",
       "4         5    100       1400            6         13   4.24"
      ]
     },
     "execution_count": 42,
     "metadata": {},
     "output_type": "execute_result"
    }
   ],
   "source": [
    "df.head()"
   ]
  },
  {
   "cell_type": "code",
   "execution_count": 44,
   "metadata": {},
   "outputs": [
    {
     "data": {
      "text/html": [
       "<div>\n",
       "<style scoped>\n",
       "    .dataframe tbody tr th:only-of-type {\n",
       "        vertical-align: middle;\n",
       "    }\n",
       "\n",
       "    .dataframe tbody tr th {\n",
       "        vertical-align: top;\n",
       "    }\n",
       "\n",
       "    .dataframe thead th {\n",
       "        text-align: right;\n",
       "    }\n",
       "</style>\n",
       "<table border=\"1\" class=\"dataframe\">\n",
       "  <thead>\n",
       "    <tr style=\"text-align: right;\">\n",
       "      <th></th>\n",
       "      <th>Location</th>\n",
       "      <th>sales</th>\n",
       "      <th>employees</th>\n",
       "      <th>Restaurants</th>\n",
       "      <th>Foodcarts</th>\n",
       "      <th>Price</th>\n",
       "    </tr>\n",
       "  </thead>\n",
       "  <tbody>\n",
       "    <tr>\n",
       "      <th>Location</th>\n",
       "      <td>1.000000</td>\n",
       "      <td>0.042705</td>\n",
       "      <td>-0.068923</td>\n",
       "      <td>0.049701</td>\n",
       "      <td>0.077219</td>\n",
       "      <td>-0.138444</td>\n",
       "    </tr>\n",
       "    <tr>\n",
       "      <th>sales</th>\n",
       "      <td>0.042705</td>\n",
       "      <td>1.000000</td>\n",
       "      <td>0.943238</td>\n",
       "      <td>0.913674</td>\n",
       "      <td>-0.919762</td>\n",
       "      <td>-0.966378</td>\n",
       "    </tr>\n",
       "    <tr>\n",
       "      <th>employees</th>\n",
       "      <td>-0.068923</td>\n",
       "      <td>0.943238</td>\n",
       "      <td>1.000000</td>\n",
       "      <td>0.856976</td>\n",
       "      <td>-0.874692</td>\n",
       "      <td>-0.881540</td>\n",
       "    </tr>\n",
       "    <tr>\n",
       "      <th>Restaurants</th>\n",
       "      <td>0.049701</td>\n",
       "      <td>0.913674</td>\n",
       "      <td>0.856976</td>\n",
       "      <td>1.000000</td>\n",
       "      <td>-0.761793</td>\n",
       "      <td>-0.933951</td>\n",
       "    </tr>\n",
       "    <tr>\n",
       "      <th>Foodcarts</th>\n",
       "      <td>0.077219</td>\n",
       "      <td>-0.919762</td>\n",
       "      <td>-0.874692</td>\n",
       "      <td>-0.761793</td>\n",
       "      <td>1.000000</td>\n",
       "      <td>0.860154</td>\n",
       "    </tr>\n",
       "    <tr>\n",
       "      <th>Price</th>\n",
       "      <td>-0.138444</td>\n",
       "      <td>-0.966378</td>\n",
       "      <td>-0.881540</td>\n",
       "      <td>-0.933951</td>\n",
       "      <td>0.860154</td>\n",
       "      <td>1.000000</td>\n",
       "    </tr>\n",
       "  </tbody>\n",
       "</table>\n",
       "</div>"
      ],
      "text/plain": [
       "             Location     sales  employees  Restaurants  Foodcarts     Price\n",
       "Location     1.000000  0.042705  -0.068923     0.049701   0.077219 -0.138444\n",
       "sales        0.042705  1.000000   0.943238     0.913674  -0.919762 -0.966378\n",
       "employees   -0.068923  0.943238   1.000000     0.856976  -0.874692 -0.881540\n",
       "Restaurants  0.049701  0.913674   0.856976     1.000000  -0.761793 -0.933951\n",
       "Foodcarts    0.077219 -0.919762  -0.874692    -0.761793   1.000000  0.860154\n",
       "Price       -0.138444 -0.966378  -0.881540    -0.933951   0.860154  1.000000"
      ]
     },
     "execution_count": 44,
     "metadata": {},
     "output_type": "execute_result"
    }
   ],
   "source": [
    "Then do a correlation table on that dataframe. \n",
    "df.corr()"
   ]
  },
  {
   "cell_type": "code",
   "execution_count": null,
   "metadata": {},
   "outputs": [],
   "source": [
    "What features (columns) are correlated? "
   ]
  },
  {
   "cell_type": "code",
   "execution_count": null,
   "metadata": {},
   "outputs": [],
   "source": [
    " What features aren't correlated"
   ]
  },
  {
   "cell_type": "markdown",
   "metadata": {},
   "source": [
    "### Exercise 2:\n",
    "\n",
    "Using the dataframe from the previous exercise, choose features (columns) to create a linear regression formula to predict sales. Try it with and without the y-intercept. How does it make a difference? Does adding or removing features in your model formula make a difference in the output?"
   ]
  },
  {
   "cell_type": "code",
   "execution_count": 77,
   "metadata": {},
   "outputs": [],
   "source": [
    "import statsmodels.formula.api as smf"
   ]
  },
  {
   "cell_type": "code",
   "execution_count": 79,
   "metadata": {},
   "outputs": [
    {
     "data": {
      "text/html": [
       "<table class=\"simpletable\">\n",
       "<caption>OLS Regression Results</caption>\n",
       "<tr>\n",
       "  <th>Dep. Variable:</th>          <td>sales</td>      <th>  R-squared:         </th> <td>   0.931</td>\n",
       "</tr>\n",
       "<tr>\n",
       "  <th>Model:</th>                   <td>OLS</td>       <th>  Adj. R-squared:    </th> <td>   0.926</td>\n",
       "</tr>\n",
       "<tr>\n",
       "  <th>Method:</th>             <td>Least Squares</td>  <th>  F-statistic:       </th> <td>   183.5</td>\n",
       "</tr>\n",
       "<tr>\n",
       "  <th>Date:</th>             <td>Wed, 21 Aug 2019</td> <th>  Prob (F-statistic):</th> <td>1.92e-16</td>\n",
       "</tr>\n",
       "<tr>\n",
       "  <th>Time:</th>                 <td>12:00:25</td>     <th>  Log-Likelihood:    </th> <td> -156.98</td>\n",
       "</tr>\n",
       "<tr>\n",
       "  <th>No. Observations:</th>      <td>    30</td>      <th>  AIC:               </th> <td>   320.0</td>\n",
       "</tr>\n",
       "<tr>\n",
       "  <th>Df Residuals:</th>          <td>    27</td>      <th>  BIC:               </th> <td>   324.2</td>\n",
       "</tr>\n",
       "<tr>\n",
       "  <th>Df Model:</th>              <td>     2</td>      <th>                     </th>     <td> </td>   \n",
       "</tr>\n",
       "<tr>\n",
       "  <th>Covariance Type:</th>      <td>nonrobust</td>    <th>                     </th>     <td> </td>   \n",
       "</tr>\n",
       "</table>\n",
       "<table class=\"simpletable\">\n",
       "<tr>\n",
       "       <td></td>          <th>coef</th>     <th>std err</th>      <th>t</th>      <th>P>|t|</th>  <th>[0.025</th>    <th>0.975]</th>  \n",
       "</tr>\n",
       "<tr>\n",
       "  <th>Intercept</th>   <td> -147.8062</td> <td>   23.004</td> <td>   -6.425</td> <td> 0.000</td> <td> -195.007</td> <td> -100.605</td>\n",
       "</tr>\n",
       "<tr>\n",
       "  <th>employees</th>   <td>    0.1226</td> <td>    0.020</td> <td>    6.172</td> <td> 0.000</td> <td>    0.082</td> <td>    0.163</td>\n",
       "</tr>\n",
       "<tr>\n",
       "  <th>Restaurants</th> <td>   13.7409</td> <td>    3.386</td> <td>    4.058</td> <td> 0.000</td> <td>    6.792</td> <td>   20.689</td>\n",
       "</tr>\n",
       "</table>\n",
       "<table class=\"simpletable\">\n",
       "<tr>\n",
       "  <th>Omnibus:</th>       <td> 3.067</td> <th>  Durbin-Watson:     </th> <td>   1.698</td>\n",
       "</tr>\n",
       "<tr>\n",
       "  <th>Prob(Omnibus):</th> <td> 0.216</td> <th>  Jarque-Bera (JB):  </th> <td>   1.417</td>\n",
       "</tr>\n",
       "<tr>\n",
       "  <th>Skew:</th>          <td> 0.087</td> <th>  Prob(JB):          </th> <td>   0.492</td>\n",
       "</tr>\n",
       "<tr>\n",
       "  <th>Kurtosis:</th>      <td> 1.950</td> <th>  Cond. No.          </th> <td>5.81e+03</td>\n",
       "</tr>\n",
       "</table><br/><br/>Warnings:<br/>[1] Standard Errors assume that the covariance matrix of the errors is correctly specified.<br/>[2] The condition number is large, 5.81e+03. This might indicate that there are<br/>strong multicollinearity or other numerical problems."
      ],
      "text/plain": [
       "<class 'statsmodels.iolib.summary.Summary'>\n",
       "\"\"\"\n",
       "                            OLS Regression Results                            \n",
       "==============================================================================\n",
       "Dep. Variable:                  sales   R-squared:                       0.931\n",
       "Model:                            OLS   Adj. R-squared:                  0.926\n",
       "Method:                 Least Squares   F-statistic:                     183.5\n",
       "Date:                Wed, 21 Aug 2019   Prob (F-statistic):           1.92e-16\n",
       "Time:                        12:00:25   Log-Likelihood:                -156.98\n",
       "No. Observations:                  30   AIC:                             320.0\n",
       "Df Residuals:                      27   BIC:                             324.2\n",
       "Df Model:                           2                                         \n",
       "Covariance Type:            nonrobust                                         \n",
       "===============================================================================\n",
       "                  coef    std err          t      P>|t|      [0.025      0.975]\n",
       "-------------------------------------------------------------------------------\n",
       "Intercept    -147.8062     23.004     -6.425      0.000    -195.007    -100.605\n",
       "employees       0.1226      0.020      6.172      0.000       0.082       0.163\n",
       "Restaurants    13.7409      3.386      4.058      0.000       6.792      20.689\n",
       "==============================================================================\n",
       "Omnibus:                        3.067   Durbin-Watson:                   1.698\n",
       "Prob(Omnibus):                  0.216   Jarque-Bera (JB):                1.417\n",
       "Skew:                           0.087   Prob(JB):                        0.492\n",
       "Kurtosis:                       1.950   Cond. No.                     5.81e+03\n",
       "==============================================================================\n",
       "\n",
       "Warnings:\n",
       "[1] Standard Errors assume that the covariance matrix of the errors is correctly specified.\n",
       "[2] The condition number is large, 5.81e+03. This might indicate that there are\n",
       "strong multicollinearity or other numerical problems.\n",
       "\"\"\""
      ]
     },
     "execution_count": 79,
     "metadata": {},
     "output_type": "execute_result"
    }
   ],
   "source": [
    "result = smf.ols('sales ~ employees + Restaurants', data=df).fit()\n",
    "result.summary()"
   ]
  },
  {
   "cell_type": "code",
   "execution_count": null,
   "metadata": {},
   "outputs": [],
   "source": []
  }
 ],
 "metadata": {
  "kernelspec": {
   "display_name": "Python 3",
   "language": "python",
   "name": "python3"
  },
  "language_info": {
   "codemirror_mode": {
    "name": "ipython",
    "version": 3
   },
   "file_extension": ".py",
   "mimetype": "text/x-python",
   "name": "python",
   "nbconvert_exporter": "python",
   "pygments_lexer": "ipython3",
   "version": "3.7.3"
  }
 },
 "nbformat": 4,
 "nbformat_minor": 2
}
